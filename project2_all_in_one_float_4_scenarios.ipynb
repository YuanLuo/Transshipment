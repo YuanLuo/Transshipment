{
 "cells": [
  {
   "cell_type": "code",
   "execution_count": null,
   "metadata": {
    "id": "ff215fcb"
   },
   "outputs": [],
   "source": [
    "using Distributions\n",
    "using JuMP\n",
    "using CPLEX\n",
    "using BenchmarkTools"
   ]
  },
  {
   "cell_type": "code",
   "execution_count": null,
   "metadata": {
    "id": "6d0b5f47"
   },
   "outputs": [],
   "source": [
    "# Demand distribution\n",
    "mu = [100.0, 200, 150, 170, 180, 170, 170]\n",
    "sigma = [20.0, 50, 30, 50, 40, 30, 50]\n",
    "\n",
    "# For each location, we discretize the levels into\n",
    "# low, medium, high, using quantiles.\n",
    "q = [quantile(Normal(mu[i], sigma[i]), [1/8, 3/8, 5/8, 7/8]) for i in 1:7]\n",
    "\n",
    "const d = vec(collect(Iterators.product(q...)));"
   ]
  },
  {
   "cell_type": "code",
   "execution_count": null,
   "metadata": {
    "id": "3a795222"
   },
   "outputs": [],
   "source": [
    "# Number of locations\n",
    "const N = 7\n",
    "# Number of scenarios\n",
    "const M = 4^7"
   ]
  },
  {
   "cell_type": "code",
   "execution_count": null,
   "metadata": {
    "id": "0604d420"
   },
   "outputs": [],
   "source": [
    "# holding cost \n",
    "h = 1.0\n",
    "# shortage cost\n",
    "p = 4.0\n",
    "# transshipment cost\n",
    "c = 0.5"
   ]
  },
  {
   "cell_type": "code",
   "execution_count": null,
   "metadata": {
    "id": "23e8541c"
   },
   "outputs": [],
   "source": [
    "# Decision Variables\n",
    "model = Model(CPLEX.Optimizer)\n",
    "@variables(model, begin\n",
    "        e[1:M,1:N] >= 0\n",
    "        f[1:M,1:N] >= 0\n",
    "        q[1:M,1:N] >= 0\n",
    "        r[1:M,1:N] >= 0\n",
    "        t[1:M,1:N,1:N] >= 0\n",
    "        s[1:N] >= 0\n",
    "    end);"
   ]
  },
  {
   "cell_type": "code",
   "execution_count": null,
   "metadata": {
    "id": "d3fca9ce",
    "outputId": "0d63db04-c375-4389-b55a-c9d8dff56ce1",
    "scrolled": false
   },
   "outputs": [],
   "source": [
    "# Objective Function Data\n",
    "@objective(model, Min, (sum(h*e[m,i] for m in 1:M for i in 1:N)\n",
    "        +sum(c*t[m,i,j] for m in 1:M for i in 1:N for j in 1:N if i!=j)\n",
    "    +sum(p*r[m,i] for m in 1:M for i in 1:N))/M)"
   ]
  },
  {
   "cell_type": "code",
   "execution_count": null,
   "metadata": {
    "id": "c52d6485"
   },
   "outputs": [],
   "source": [
    "@constraint(model, c1[m=1:M, i=1:N], f[m,i] \n",
    "    + sum(t[m,i,j] for j in 1:N if i!=j) + e[m,i] == s[i]);"
   ]
  },
  {
   "cell_type": "code",
   "execution_count": null,
   "metadata": {
    "id": "38ecd7b2"
   },
   "outputs": [],
   "source": [
    "@constraint(model, c2[m=1:M, i=1:N], f[m,i] \n",
    "    + sum(t[m,j,i] for j in 1:N if i!=j) + r[m,i] == d[m][i]);"
   ]
  },
  {
   "cell_type": "code",
   "execution_count": null,
   "metadata": {
    "id": "ba1fa7e7",
    "scrolled": true
   },
   "outputs": [],
   "source": [
    "@constraint(model, c3[m=1:M], sum(r[m,1:N])\n",
    "    +sum(q[m,1:N])==sum(d[m]));"
   ]
  },
  {
   "cell_type": "code",
   "execution_count": null,
   "metadata": {
    "id": "bfe862ed"
   },
   "outputs": [],
   "source": [
    "@constraint(model, c4[m=1:M,i=1:N], e[m,i]+q[m,i]==s[i]);"
   ]
  },
  {
   "cell_type": "code",
   "execution_count": null,
   "metadata": {},
   "outputs": [],
   "source": [
    "@time optimize!(model)"
   ]
  },
  {
   "cell_type": "code",
   "execution_count": null,
   "metadata": {
    "id": "e58f1f6c",
    "outputId": "a3c22a15-b774-40a3-d963-e481eed0de9d"
   },
   "outputs": [],
   "source": [
    "optimize!(model)"
   ]
  },
  {
   "cell_type": "code",
   "execution_count": null,
   "metadata": {
    "id": "81fb3ed8",
    "outputId": "67daf8b2-774b-49c5-c805-4c4a89b38a9d"
   },
   "outputs": [],
   "source": [
    "@show objective_value(model)\n",
    "@show value.(s)"
   ]
  },
  {
   "cell_type": "code",
   "execution_count": null,
   "metadata": {
    "id": "b25fec1e"
   },
   "outputs": [],
   "source": []
  }
 ],
 "metadata": {
  "colab": {
   "collapsed_sections": [],
   "provenance": []
  },
  "kernelspec": {
   "display_name": "Julia 1.8.0",
   "language": "julia",
   "name": "julia-1.8"
  },
  "language_info": {
   "file_extension": ".jl",
   "mimetype": "application/julia",
   "name": "julia",
   "version": "1.8.0"
  },
  "varInspector": {
   "cols": {
    "lenName": 16,
    "lenType": 16,
    "lenVar": 40
   },
   "kernels_config": {
    "python": {
     "delete_cmd_postfix": "",
     "delete_cmd_prefix": "del ",
     "library": "var_list.py",
     "varRefreshCmd": "print(var_dic_list())"
    },
    "r": {
     "delete_cmd_postfix": ") ",
     "delete_cmd_prefix": "rm(",
     "library": "var_list.r",
     "varRefreshCmd": "cat(var_dic_list()) "
    }
   },
   "types_to_exclude": [
    "module",
    "function",
    "builtin_function_or_method",
    "instance",
    "_Feature"
   ],
   "window_display": false
  }
 },
 "nbformat": 4,
 "nbformat_minor": 5
}
